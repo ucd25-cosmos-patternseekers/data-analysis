{
 "cells": [
  {
   "cell_type": "code",
   "execution_count": 10,
   "id": "115ed027",
   "metadata": {},
   "outputs": [
    {
     "name": "stdout",
     "output_type": "stream",
     "text": [
      "    What is your name? How many hours of sleep did you get yesterday?  \\\n",
      "0                    2                                           cake   \n",
      "1                    2                                              8   \n",
      "2                    2                                              7   \n",
      "3                    2                                              1   \n",
      "4                    3                                              6   \n",
      "5                    2                              6 hours 9 minutes   \n",
      "6                    3                                             54   \n",
      "7                    2                                              2   \n",
      "8                    2                                              8   \n",
      "9                    3                                              9   \n",
      "10                   2                                A HUNEDDDDDDDDD   \n",
      "11                   2                                             -3   \n",
      "12                   1                                             17   \n",
      "13                   3                                         6 or 7   \n",
      "14                   2                                           6.51   \n",
      "15                   1                                              1   \n",
      "\n",
      "    Rate your roommate on a scale of 1-10  How good is the food?  \\\n",
      "0                                       5                      2   \n",
      "1                                      10                      4   \n",
      "2                                      10                      3   \n",
      "3                                       8                      3   \n",
      "4                                       8                      4   \n",
      "5                                      10                      1   \n",
      "6                                       8                      3   \n",
      "7                                      10                      5   \n",
      "8                                      10                      3   \n",
      "9                                      10                      3   \n",
      "10                                     10                      1   \n",
      "11                                      6                      1   \n",
      "12                                     10                      3   \n",
      "13                                      7                      1   \n",
      "14                                      8                      4   \n",
      "15                                      1                      1   \n",
      "\n",
      "                 How is the cow? Which group is the best in Cluster 11?  \n",
      "0                      like beef                        Pattern Seekers  \n",
      "1                I like the milk                                Group 5  \n",
      "2                           good                                Group 5  \n",
      "3                            moo                                Group 5  \n",
      "4                           good                                Group 5  \n",
      "5                            Moo                        Pattern Seekers  \n",
      "6                            moo                        Pattern Seekers  \n",
      "7                   cheeseburger                                Group 5  \n",
      "8            it wants to eat you                        Pattern Seekers  \n",
      "9                         smelly                        Pattern Seekers  \n",
      "10                      mooooooo                        Pattern Seekers  \n",
      "11                          well                        Pattern Seekers  \n",
      "12                          fine                                Group 5  \n",
      "13                          good                        Pattern Seekers  \n",
      "14  the cow is udderly my gramma                        Pattern Seekers  \n",
      "15                             1                        Pattern Seekers  \n"
     ]
    }
   ],
   "source": [
    "import pandas as pd\n",
    "df = pd.read_csv(\"/Users/mohinigune/Downloads/Pattern Seekers Interview (Responses) - Form Responses 1.csv\")\n",
    "df = df.drop(\"Timestamp\", axis=1)\n",
    "print(df)\n",
    "\n",
    "\n",
    "\n",
    "\n"
   ]
  }
 ],
 "metadata": {
  "kernelspec": {
   "display_name": "cosmos",
   "language": "python",
   "name": "python3"
  },
  "language_info": {
   "codemirror_mode": {
    "name": "ipython",
    "version": 3
   },
   "file_extension": ".py",
   "mimetype": "text/x-python",
   "name": "python",
   "nbconvert_exporter": "python",
   "pygments_lexer": "ipython3",
   "version": "3.12.11"
  }
 },
 "nbformat": 4,
 "nbformat_minor": 5
}
