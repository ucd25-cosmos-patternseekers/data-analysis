{
 "cells": [
  {
   "cell_type": "markdown",
   "id": "3c11715c",
   "metadata": {},
   "source": [
    "Goal: Count how many numbers are divisible by 3"
   ]
  },
  {
   "cell_type": "code",
   "execution_count": 1,
   "id": "90709be4",
   "metadata": {},
   "outputs": [
    {
     "name": "stdout",
     "output_type": "stream",
     "text": [
      "Count of multiples of 3: 2\n"
     ]
    }
   ],
   "source": [
    "numbers = [3, 6, 9, 10, 12, 13]\n",
    "count = 0\n",
    "\n",
    "for n in numbers:\n",
    "    if n % 3:\n",
    "        count += 1\n",
    "\n",
    "print(\"Count of multiples of 3:\", count)"
   ]
  }
 ],
 "metadata": {
  "kernelspec": {
   "display_name": "cosmos",
   "language": "python",
   "name": "python3"
  },
  "language_info": {
   "codemirror_mode": {
    "name": "ipython",
    "version": 3
   },
   "file_extension": ".py",
   "mimetype": "text/x-python",
   "name": "python",
   "nbconvert_exporter": "python",
   "pygments_lexer": "ipython3",
   "version": "3.12.11"
  }
 },
 "nbformat": 4,
 "nbformat_minor": 5
}
